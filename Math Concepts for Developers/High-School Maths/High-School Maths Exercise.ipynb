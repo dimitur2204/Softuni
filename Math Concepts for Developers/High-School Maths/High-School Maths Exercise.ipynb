{
 "cells": [
  {
   "cell_type": "markdown",
   "metadata": {},
   "source": [
    "  $$ y = ax + b $$\n",
    "  $$ f(x) = x^2\\\\ $$\n",
    " $$ g(x) = \\frac{1}{x}\\\\ $$\n",
    "$$  F(x) = \\int^a_b \\frac{1}{3}x^3 $$"
   ]
  },
  {
   "cell_type": "code",
   "execution_count": null,
   "metadata": {},
   "outputs": [],
   "source": []
  }
 ],
 "metadata": {
  "kernelspec": {
   "display_name": "Python 3",
   "language": "python",
   "name": "python3"
  },
  "language_info": {
   "codemirror_mode": {
    "name": "ipython",
    "version": 3
   },
   "file_extension": ".py",
   "mimetype": "text/x-python",
   "name": "python",
   "nbconvert_exporter": "python",
   "pygments_lexer": "ipython3",
   "version": "3.7.4"
  }
 },
 "nbformat": 4,
 "nbformat_minor": 2
}
